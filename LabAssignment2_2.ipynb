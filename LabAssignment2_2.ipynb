{
  "nbformat": 4,
  "nbformat_minor": 0,
  "metadata": {
    "colab": {
      "provenance": [],
      "authorship_tag": "ABX9TyOpk8AKopleIfp9jvKT635M",
      "include_colab_link": true
    },
    "kernelspec": {
      "name": "python3",
      "display_name": "Python 3"
    },
    "language_info": {
      "name": "python"
    }
  },
  "cells": [
    {
      "cell_type": "markdown",
      "metadata": {
        "id": "view-in-github",
        "colab_type": "text"
      },
      "source": [
        "<a href=\"https://colab.research.google.com/github/JanviDharwal/UCS420/blob/main/LabAssignment2_2.ipynb\" target=\"_parent\"><img src=\"https://colab.research.google.com/assets/colab-badge.svg\" alt=\"Open In Colab\"/></a>"
      ]
    },
    {
      "cell_type": "code",
      "execution_count": 2,
      "metadata": {
        "colab": {
          "base_uri": "https://localhost:8080/"
        },
        "id": "NMeppUX9-28l",
        "outputId": "17efbb12-ba3c-4ed6-c297-46058b5b2397"
      },
      "outputs": [
        {
          "output_type": "stream",
          "name": "stdout",
          "text": [
            "highest score 92\n",
            "index og highest score 5\n"
          ]
        }
      ],
      "source": [
        "#Create a tuple of marks scored as scores = (45, 89.5, 76, 45.4, 89, 92, 58, 45) and perform the following operations using tuple functions:\n",
        "#i. Identify the highest score and its index in the tuple.\n",
        "scores = (45, 89.5, 76, 45.4, 89, 92, 58, 45)\n",
        "print('highest score',max(scores))\n",
        "print('index og highest score',scores.index(max(scores)))\n"
      ]
    },
    {
      "cell_type": "code",
      "source": [
        "#ii. Find the lowest score and count how many times it appears.\n",
        "scores = (45, 89.5, 76, 45.4, 89, 92, 58, 45)\n",
        "print('lowest score',min(scores))\n",
        "print('count of lowest score',scores.count(min(scores)))"
      ],
      "metadata": {
        "colab": {
          "base_uri": "https://localhost:8080/"
        },
        "id": "eywI_ZEK_67t",
        "outputId": "62b2276b-f4d0-4306-e3e7-3fa113c40400"
      },
      "execution_count": 3,
      "outputs": [
        {
          "output_type": "stream",
          "name": "stdout",
          "text": [
            "lowest score 45\n",
            "count of lowest score 2\n"
          ]
        }
      ]
    },
    {
      "cell_type": "code",
      "source": [
        "#iii Reverse the tuple and return it as a list.\n",
        "scores = (45, 89.5, 76, 45.4, 89, 92, 58, 45)\n",
        "print(list(reversed(scores)))\n"
      ],
      "metadata": {
        "colab": {
          "base_uri": "https://localhost:8080/"
        },
        "id": "qMI2Z5yvByoj",
        "outputId": "cac1c3c2-efe9-429d-8450-1481f0404322"
      },
      "execution_count": 5,
      "outputs": [
        {
          "output_type": "stream",
          "name": "stdout",
          "text": [
            "[45, 58, 92, 89, 45.4, 76, 89.5, 45]\n"
          ]
        }
      ]
    },
    {
      "cell_type": "code",
      "source": [
        "#iv Check if a specific score ‘76’ (input by the user) is present in the tuple and print its first occurrence index, or a message saying it’s not present.\n",
        "scores = (45, 89.5, 76, 45.4, 89, 92, 58, 45)\n",
        "n=int(input(\"enter number to be searched\"))\n",
        "if n in scores:\n",
        "  print(\"it exists and its index is\",scores.index(n))\n",
        "else:\n",
        "  print(\"it does not exist\")\n"
      ],
      "metadata": {
        "colab": {
          "base_uri": "https://localhost:8080/"
        },
        "id": "zSi-iVZYCJNg",
        "outputId": "0527298b-4fe7-45f0-94e8-ba786f9aebf5"
      },
      "execution_count": 6,
      "outputs": [
        {
          "output_type": "stream",
          "name": "stdout",
          "text": [
            "enter number to be searched76\n",
            "it exists and its index is 2\n"
          ]
        }
      ]
    }
  ]
}