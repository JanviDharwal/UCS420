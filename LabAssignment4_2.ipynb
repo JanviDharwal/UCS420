{
  "nbformat": 4,
  "nbformat_minor": 0,
  "metadata": {
    "colab": {
      "provenance": [],
      "authorship_tag": "ABX9TyO+VLnt2vypxEA6FgU6B89Q",
      "include_colab_link": true
    },
    "kernelspec": {
      "name": "python3",
      "display_name": "Python 3"
    },
    "language_info": {
      "name": "python"
    }
  },
  "cells": [
    {
      "cell_type": "markdown",
      "metadata": {
        "id": "view-in-github",
        "colab_type": "text"
      },
      "source": [
        "<a href=\"https://colab.research.google.com/github/JanviDharwal/UCS420/blob/main/LabAssignment4_2.ipynb\" target=\"_parent\"><img src=\"https://colab.research.google.com/assets/colab-badge.svg\" alt=\"Open In Colab\"/></a>"
      ]
    },
    {
      "cell_type": "code",
      "execution_count": 1,
      "metadata": {
        "colab": {
          "base_uri": "https://localhost:8080/"
        },
        "id": "E4wnCvd6wv9c",
        "outputId": "9a93738e-dba8-4de4-c471-4402a5d70342"
      },
      "outputs": [
        {
          "output_type": "stream",
          "name": "stdout",
          "text": [
            "[5 4 6 3 2 1]\n"
          ]
        }
      ],
      "source": [
        "import numpy as np\n",
        "#question 2\n",
        "'''\n",
        "Questions on Basic NumPy Array:\n",
        "a) Reverse the NumPy array: arr = np.array([1, 2, 3, 6, 4, 5])\n",
        "'''\n",
        "a=np.array([1,2,3,6,4,5])\n",
        "print(a[::-1])\n"
      ]
    },
    {
      "cell_type": "code",
      "source": [
        "'''\n",
        "b) Find the most frequent value and their indice(s) in the following arrays:\n",
        "i. x = np.array([1,2,3,4,5,1,2,1,1,1])\n",
        "'''\n",
        "\n",
        "x=np.array([1,2,3,4,5,1,2,1,1,1])\n",
        "y=np.array([1,1,1,2,3,4,2,4,3,3])\n",
        "count={}\n",
        "for i in x:\n",
        "  if i in count:\n",
        "    count[i]+=1\n",
        "  else:\n",
        "    count[i]=1\n",
        "print(count)\n",
        "#finding max frequency\n",
        "max=0\n",
        "fmax=0\n",
        "for j in x:\n",
        "  if j>max:\n",
        "    count[j]=max\n",
        "    fmax=count[j]\n",
        "    fmax=j\n",
        "#finding index going through the dictionary\n",
        "index=[]\n",
        "for i in range(len(x)):\n",
        "  if x[i]==fmax:\n",
        "    index.append(i)\n",
        "\n",
        "print(\"max requency is\",fmax,\"at index\",index)\n",
        "\n"
      ],
      "metadata": {
        "colab": {
          "base_uri": "https://localhost:8080/"
        },
        "id": "CLO_Jb08xH0r",
        "outputId": "c031b741-ea73-4279-f275-4aa91166afee"
      },
      "execution_count": 7,
      "outputs": [
        {
          "output_type": "stream",
          "name": "stdout",
          "text": [
            "{1: 5, 2: 2, 3: 1, 4: 1, 5: 1}\n",
            "max requency is 1 at index [0, 5, 7, 8, 9]\n"
          ]
        }
      ]
    },
    {
      "cell_type": "code",
      "source": [
        "#ii. y = np.array([1, 1, 1, 2, 3, 4, 2, 4, 3, 3, ])\n",
        "y=np.array([1,1,1,2,3,4,2,4,3,3])\n",
        "count={}\n",
        "for i in y:\n",
        "  if i in count:\n",
        "    count[i]+=1\n",
        "  else:\n",
        "    count[i]=1\n",
        "print(count)\n",
        "#finding max frequency\n",
        "max=0\n",
        "fmax=0\n",
        "for j in y:\n",
        "  if j>max:\n",
        "    count[j]=max\n",
        "    fmax=count[j]\n",
        "    fmax=j\n",
        "#finding index going through the dictionary\n",
        "index=[]\n",
        "for i in range(len(y)):\n",
        "  if y[i]==fmax:\n",
        "    index.append(i)\n",
        "\n",
        "print(\"max requency is\",fmax,\"at index\",index)"
      ],
      "metadata": {
        "colab": {
          "base_uri": "https://localhost:8080/"
        },
        "id": "hJBzu8YX6Bfb",
        "outputId": "38bf1bc7-675a-46cb-ff13-0170fd139d6b"
      },
      "execution_count": 9,
      "outputs": [
        {
          "output_type": "stream",
          "name": "stdout",
          "text": [
            "{1: 3, 2: 2, 3: 3, 4: 2}\n",
            "max requency is 3 at index [4, 8, 9]\n"
          ]
        }
      ]
    }
  ]
}