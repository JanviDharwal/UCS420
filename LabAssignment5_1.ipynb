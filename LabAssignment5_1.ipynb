{
  "nbformat": 4,
  "nbformat_minor": 0,
  "metadata": {
    "colab": {
      "provenance": [],
      "authorship_tag": "ABX9TyPT9wdCwc8ZGGR0pR6EWe6z",
      "include_colab_link": true
    },
    "kernelspec": {
      "name": "python3",
      "display_name": "Python 3"
    },
    "language_info": {
      "name": "python"
    }
  },
  "cells": [
    {
      "cell_type": "markdown",
      "metadata": {
        "id": "view-in-github",
        "colab_type": "text"
      },
      "source": [
        "<a href=\"https://colab.research.google.com/github/JanviDharwal/UCS420/blob/main/LabAssignment5_1.ipynb\" target=\"_parent\"><img src=\"https://colab.research.google.com/assets/colab-badge.svg\" alt=\"Open In Colab\"/></a>"
      ]
    },
    {
      "cell_type": "code",
      "execution_count": 7,
      "metadata": {
        "colab": {
          "base_uri": "https://localhost:8080/"
        },
        "id": "uiQNOjOKUtPo",
        "outputId": "3faaa8ba-64b7-4ca4-cb4e-f69bcdc3ae30"
      },
      "outputs": [
        {
          "output_type": "stream",
          "name": "stdout",
          "text": [
            "Sum of all element 45\n"
          ]
        }
      ],
      "source": [
        "import numpy as np\n",
        "#For the array gfg = np.matrix('[4, 1, 9; 12, 3, 1; 4, 5, 6]'),\n",
        "#i. Sum of all elements\n",
        "gfg = np.matrix('[4, 1, 9; 12, 3, 1; 4, 5, 6]')\n",
        "sum_of_elements = np.sum(gfg)\n",
        "\n",
        "print(\"Sum of all element\", sum_of_elements)"
      ]
    },
    {
      "cell_type": "code",
      "source": [
        "#iiSum of all elements row-wise\n",
        "gfg = np.matrix('[4, 1, 9; 12, 3, 1; 4, 5, 6]')\n",
        "row=np.sum(gfg,axis=1)\n",
        "print(row)"
      ],
      "metadata": {
        "colab": {
          "base_uri": "https://localhost:8080/"
        },
        "id": "X5-fpy6tYSOZ",
        "outputId": "1c1a62e0-65cf-4de6-a799-388730c9c123"
      },
      "execution_count": 8,
      "outputs": [
        {
          "output_type": "stream",
          "name": "stdout",
          "text": [
            "[[14]\n",
            " [16]\n",
            " [15]]\n"
          ]
        }
      ]
    },
    {
      "cell_type": "code",
      "source": [
        "#iii. Sum of all elements column-wise\n",
        "c=np.sum(gfg,axis=0);\n",
        "print(c)"
      ],
      "metadata": {
        "colab": {
          "base_uri": "https://localhost:8080/"
        },
        "id": "cxEIusrqYtOv",
        "outputId": "9f5a62df-2dd8-4938-c52d-5511c63b0e29"
      },
      "execution_count": 10,
      "outputs": [
        {
          "output_type": "stream",
          "name": "stdout",
          "text": [
            "[[20  9 16]]\n"
          ]
        }
      ]
    }
  ]
}