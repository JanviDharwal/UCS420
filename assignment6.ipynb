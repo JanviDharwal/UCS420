{
  "nbformat": 4,
  "nbformat_minor": 0,
  "metadata": {
    "colab": {
      "provenance": [],
      "authorship_tag": "ABX9TyNun82ZrKY3fQXaNR3R1aUs",
      "include_colab_link": true
    },
    "kernelspec": {
      "name": "python3",
      "display_name": "Python 3"
    },
    "language_info": {
      "name": "python"
    }
  },
  "cells": [
    {
      "cell_type": "markdown",
      "metadata": {
        "id": "view-in-github",
        "colab_type": "text"
      },
      "source": [
        "<a href=\"https://colab.research.google.com/github/JanviDharwal/UCS712/blob/main/assignment6.ipynb\" target=\"_parent\"><img src=\"https://colab.research.google.com/assets/colab-badge.svg\" alt=\"Open In Colab\"/></a>"
      ]
    },
    {
      "cell_type": "code",
      "execution_count": 5,
      "metadata": {
        "colab": {
          "base_uri": "https://localhost:8080/"
        },
        "id": "R6jUVcRu-xHT",
        "outputId": "08c1f9bb-eb11-4832-c4f2-6c1a062938a7"
      },
      "outputs": [
        {
          "output_type": "stream",
          "name": "stdout",
          "text": [
            "enter number10\n",
            "24\n"
          ]
        }
      ],
      "source": [
        "#assingment 6.1: WAP using function that add all odd numbers from 1 to n, n is given by the user.\n",
        "def isodd(n):\n",
        "  if n!=1:\n",
        "    if n%2 !=0:\n",
        "      return True\n",
        "    else:\n",
        "      return False\n",
        "n=int(input('enter number'))\n",
        "sum=0\n",
        "for i in range(2,n+1):\n",
        "  if isodd(i):\n",
        "    sum+=i\n",
        "print(sum)"
      ]
    },
    {
      "cell_type": "code",
      "source": [
        "#Assingment 6.2: WAP using function that add all prime numbers from 1 to n, n given by the user.\n",
        "def isprime(n):\n",
        "  if n<=1:\n",
        "    return False\n",
        "  elif n==2:\n",
        "    return True\n",
        "  else:\n",
        "    for i in range(2,n):\n",
        "      if n%i==0:\n",
        "        return False\n",
        "  return True\n",
        "n=int(input(\"enter number\"))\n",
        "sum=0\n",
        "for i in range(0,n+1):\n",
        "  if isprime(i):\n",
        "    sum+=i\n",
        "print(sum)"
      ],
      "metadata": {
        "colab": {
          "base_uri": "https://localhost:8080/"
        },
        "id": "6wr0rywzBHfb",
        "outputId": "eac6900c-32af-4ad1-a726-329982fc08a1"
      },
      "execution_count": 9,
      "outputs": [
        {
          "output_type": "stream",
          "name": "stdout",
          "text": [
            "enter number10\n",
            "17\n"
          ]
        }
      ]
    }
  ]
}