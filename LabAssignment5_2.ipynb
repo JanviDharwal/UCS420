{
  "nbformat": 4,
  "nbformat_minor": 0,
  "metadata": {
    "colab": {
      "provenance": [],
      "authorship_tag": "ABX9TyOmWOyRtyDxyaSxeDIVNk0g",
      "include_colab_link": true
    },
    "kernelspec": {
      "name": "python3",
      "display_name": "Python 3"
    },
    "language_info": {
      "name": "python"
    }
  },
  "cells": [
    {
      "cell_type": "markdown",
      "metadata": {
        "id": "view-in-github",
        "colab_type": "text"
      },
      "source": [
        "<a href=\"https://colab.research.google.com/github/JanviDharwal/UCS420/blob/main/LabAssignment5_2.ipynb\" target=\"_parent\"><img src=\"https://colab.research.google.com/assets/colab-badge.svg\" alt=\"Open In Colab\"/></a>"
      ]
    },
    {
      "cell_type": "code",
      "execution_count": 14,
      "metadata": {
        "colab": {
          "base_uri": "https://localhost:8080/"
        },
        "id": "uiQNOjOKUtPo",
        "outputId": "d8c67b5a-1457-484d-87fe-7f6c949bc4c6"
      },
      "outputs": [
        {
          "output_type": "stream",
          "name": "stdout",
          "text": [
            "[ 10  16  16  52  54  62 453]\n",
            "[0 3 4 1 5 2 6]\n",
            "[10 52 62 16]\n",
            "[ 62  16  16  54 453]\n"
          ]
        }
      ],
      "source": [
        "import numpy as np\n",
        "'''\n",
        "question 2\n",
        " (a)For the array: array = np.array([10, 52, 62, 16, 16, 54, 453]), find\n",
        "i. Sorted array\n",
        "'''\n",
        "array=np.array([10, 52, 62, 16, 16, 54, 453])\n",
        "sort=np.sort(array)\n",
        "print(sort)\n",
        "#ii. Indices of sorted array\n",
        "indices=np.argsort(array)\n",
        "print(indices)\n",
        "#iii. 4 smallest elements\n",
        "smol=np.array([10, 52, 62, 16, 16, 54, 453])[:4]\n",
        "print(smol)\n",
        "#iv. 5 largest elements\n",
        "l=np.array([10, 52, 62, 16, 16, 54, 453])[-5:]\n",
        "print(l)"
      ]
    }
  ]
}