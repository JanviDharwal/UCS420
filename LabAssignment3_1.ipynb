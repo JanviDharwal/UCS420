{
  "nbformat": 4,
  "nbformat_minor": 0,
  "metadata": {
    "colab": {
      "provenance": [],
      "authorship_tag": "ABX9TyO9kx/0twHqXU3MtbIx5cwO",
      "include_colab_link": true
    },
    "kernelspec": {
      "name": "python3",
      "display_name": "Python 3"
    },
    "language_info": {
      "name": "python"
    }
  },
  "cells": [
    {
      "cell_type": "markdown",
      "metadata": {
        "id": "view-in-github",
        "colab_type": "text"
      },
      "source": [
        "<a href=\"https://colab.research.google.com/github/JanviDharwal/UCS420/blob/main/LabAssignment3_1.ipynb\" target=\"_parent\"><img src=\"https://colab.research.google.com/assets/colab-badge.svg\" alt=\"Open In Colab\"/></a>"
      ]
    },
    {
      "cell_type": "code",
      "execution_count": 2,
      "metadata": {
        "colab": {
          "base_uri": "https://localhost:8080/"
        },
        "id": "coTh0m8OLTLa",
        "outputId": "99f5e2a4-7040-4ca2-ed75-19518e8e83d3"
      },
      "outputs": [
        {
          "output_type": "stream",
          "name": "stdout",
          "text": [
            "   Tid Refund Marital Status Taxable Income Cheat\n",
            "0    1    Yes         Single           125k    No\n",
            "1    2     No        Married           100k    No\n",
            "2    3     No         Single            70k    No\n",
            "3    4    Yes        Married           120k    No\n",
            "4    5     No       Divorced            95k   Yes\n",
            "5    6     No        Married            60k    No\n",
            "6    7    Yes       Divorced           220k    No\n",
            "7    8     No         Single            85k   Yes\n",
            "8    9     No        Married            75k    No\n",
            "9   10     No         Single            90k   Yes\n"
          ]
        }
      ],
      "source": [
        "#question 1 Create a dataset as follow in the table.\n",
        "import pandas as pd\n",
        "data={\n",
        "    'Tid':[1,2,3,4,5,6,7,8,9,10],\n",
        "    'Refund':['Yes','No','No','Yes','No','No','Yes','No','No','No'],\n",
        "    'Marital Status':['Single','Married','Single','Married','Divorced','Married','Divorced','Single','Married','Single'],\n",
        "    'Taxable Income':['125k','100k','70k','120k','95k','60k','220k','85k','75k','90k'],\n",
        "    'Cheat':['No','No','No','No','Yes','No','No','Yes','No','Yes']\n",
        "}\n",
        "#loading data\n",
        "df=pd.DataFrame(data)\n",
        "print(df)"
      ]
    }
  ]
}