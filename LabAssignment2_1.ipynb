{
  "nbformat": 4,
  "nbformat_minor": 0,
  "metadata": {
    "colab": {
      "provenance": [],
      "authorship_tag": "ABX9TyMPp/zN5NUjdGiZh31Xp55W",
      "include_colab_link": true
    },
    "kernelspec": {
      "name": "python3",
      "display_name": "Python 3"
    },
    "language_info": {
      "name": "python"
    }
  },
  "cells": [
    {
      "cell_type": "markdown",
      "metadata": {
        "id": "view-in-github",
        "colab_type": "text"
      },
      "source": [
        "<a href=\"https://colab.research.google.com/github/JanviDharwal/UCS420/blob/main/LabAssignment2_1.ipynb\" target=\"_parent\"><img src=\"https://colab.research.google.com/assets/colab-badge.svg\" alt=\"Open In Colab\"/></a>"
      ]
    },
    {
      "cell_type": "code",
      "execution_count": 2,
      "metadata": {
        "id": "WqF9r0Ow9GT3",
        "colab": {
          "base_uri": "https://localhost:8080/"
        },
        "outputId": "3e418008-4939-4112-e3c4-52ea808ac004"
      },
      "outputs": [
        {
          "output_type": "stream",
          "name": "stdout",
          "text": [
            "[10, 20, 30, 40, 50, 60, 701, 80, 200, 300]\n"
          ]
        }
      ],
      "source": [
        "#Create a List L that is defined as= [10, 20, 30, 40, 50, 60, 70, 80].\n",
        "#i. WAP to add 200 and 300 to L.\n",
        "L=[10,20,30,40,50,60,701,80]\n",
        "#L.append(200)\n",
        "L.extend([200,300])\n",
        "print(L)"
      ]
    },
    {
      "cell_type": "code",
      "source": [
        "#ii. WAP to remove 10 and 30 from L.\n",
        "L=[10,20,30,40,50,60,701,80]\n",
        "L.remove(10)\n",
        "L.remove(30)\n",
        "print(L)"
      ],
      "metadata": {
        "colab": {
          "base_uri": "https://localhost:8080/"
        },
        "id": "UgS9Fs-39zy9",
        "outputId": "13495b8b-0fdb-488c-d927-6cba74bea277"
      },
      "execution_count": 3,
      "outputs": [
        {
          "output_type": "stream",
          "name": "stdout",
          "text": [
            "[20, 40, 50, 60, 701, 80]\n"
          ]
        }
      ]
    },
    {
      "cell_type": "code",
      "source": [
        "#iii. WAP to sort L in ascending order.\n",
        "L=[10,20,30,40,50,60,701,80]\n",
        "L.sort()\n",
        "print(L)"
      ],
      "metadata": {
        "colab": {
          "base_uri": "https://localhost:8080/"
        },
        "id": "QqW7sfbE998b",
        "outputId": "689fef06-4a11-4112-f9a6-8526f559d700"
      },
      "execution_count": 4,
      "outputs": [
        {
          "output_type": "stream",
          "name": "stdout",
          "text": [
            "[10, 20, 30, 40, 50, 60, 80, 701]\n"
          ]
        }
      ]
    },
    {
      "cell_type": "code",
      "source": [
        "#iv. WAP to sort L in descending order.\n",
        "L=[10,20,30,40,50,60,701,80]\n",
        "L.sort()\n",
        "L.reverse()\n",
        "print(L)"
      ],
      "metadata": {
        "colab": {
          "base_uri": "https://localhost:8080/"
        },
        "id": "ELISicnt-LM2",
        "outputId": "f48ea7bb-e890-4a5d-c8b7-d50f41f0bbc9"
      },
      "execution_count": 6,
      "outputs": [
        {
          "output_type": "stream",
          "name": "stdout",
          "text": [
            "[701, 80, 60, 50, 40, 30, 20, 10]\n"
          ]
        }
      ]
    }
  ]
}