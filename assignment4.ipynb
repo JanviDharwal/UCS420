{
  "nbformat": 4,
  "nbformat_minor": 0,
  "metadata": {
    "colab": {
      "provenance": [],
      "authorship_tag": "ABX9TyMg1ctUNNn4Mh7SOQMY+4Mj",
      "include_colab_link": true
    },
    "kernelspec": {
      "name": "python3",
      "display_name": "Python 3"
    },
    "language_info": {
      "name": "python"
    }
  },
  "cells": [
    {
      "cell_type": "markdown",
      "metadata": {
        "id": "view-in-github",
        "colab_type": "text"
      },
      "source": [
        "<a href=\"https://colab.research.google.com/github/JanviDharwal/UCS712/blob/main/assignment4.ipynb\" target=\"_parent\"><img src=\"https://colab.research.google.com/assets/colab-badge.svg\" alt=\"Open In Colab\"/></a>"
      ]
    },
    {
      "cell_type": "code",
      "execution_count": 1,
      "metadata": {
        "colab": {
          "base_uri": "https://localhost:8080/"
        },
        "id": "SgFxL7EWy3My",
        "outputId": "cd0825a4-01fc-488d-d538-786f5cfb5688"
      },
      "outputs": [
        {
          "output_type": "stream",
          "name": "stdout",
          "text": [
            "1 x 7= 7\n",
            "2 x 7= 14\n",
            "3 x 7= 21\n",
            "4 x 7= 28\n",
            "5 x 7= 35\n",
            "6 x 7= 42\n",
            "7 x 7= 49\n",
            "8 x 7= 56\n",
            "9 x 7= 63\n",
            "10 x 7= 70\n"
          ]
        }
      ],
      "source": [
        "#Assingment 4.1: WAP to print the table of 7, 9.\n",
        "for i in range(1,11):\n",
        "  print(i,'x 7=',i*7)"
      ]
    },
    {
      "cell_type": "code",
      "source": [
        "#table for 9\n",
        "for i in range(1,11):\n",
        "  print(i,'x 9=',i*9)"
      ],
      "metadata": {
        "colab": {
          "base_uri": "https://localhost:8080/"
        },
        "id": "S9O1FpoRzg9I",
        "outputId": "71ae8cc9-7322-4093-8dca-8420b7e4d95c"
      },
      "execution_count": 2,
      "outputs": [
        {
          "output_type": "stream",
          "name": "stdout",
          "text": [
            "1 x 9= 9\n",
            "2 x 9= 18\n",
            "3 x 9= 27\n",
            "4 x 9= 36\n",
            "5 x 9= 45\n",
            "6 x 9= 54\n",
            "7 x 9= 63\n",
            "8 x 9= 72\n",
            "9 x 9= 81\n",
            "10 x 9= 90\n"
          ]
        }
      ]
    }
  ]
}