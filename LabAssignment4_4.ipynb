{
  "nbformat": 4,
  "nbformat_minor": 0,
  "metadata": {
    "colab": {
      "provenance": [],
      "authorship_tag": "ABX9TyNWvZ/k/6PGFKStuyAxPEbL",
      "include_colab_link": true
    },
    "kernelspec": {
      "name": "python3",
      "display_name": "Python 3"
    },
    "language_info": {
      "name": "python"
    }
  },
  "cells": [
    {
      "cell_type": "markdown",
      "metadata": {
        "id": "view-in-github",
        "colab_type": "text"
      },
      "source": [
        "<a href=\"https://colab.research.google.com/github/JanviDharwal/UCS420/blob/main/LabAssignment4_4.ipynb\" target=\"_parent\"><img src=\"https://colab.research.google.com/assets/colab-badge.svg\" alt=\"Open In Colab\"/></a>"
      ]
    },
    {
      "cell_type": "code",
      "execution_count": 3,
      "metadata": {
        "colab": {
          "base_uri": "https://localhost:8080/"
        },
        "id": "_7Fru7BlU-UZ",
        "outputId": "19bdd27b-f42f-4193-9b79-9c073586ef49"
      },
      "outputs": [
        {
          "output_type": "stream",
          "name": "stdout",
          "text": [
            "Array [ 10.    13.75  17.5   21.25  25.    28.75  32.5   36.25  40.    43.75\n",
            "  47.5   51.25  55.    58.75  62.5   66.25  70.    73.75  77.5   81.25\n",
            "  85.    88.75  92.5   96.25 100.  ]\n",
            "Dimensions 1\n",
            "Shape (25,)\n",
            "Total Elements 25\n",
            "Data Type of Each Element float64\n",
            "Total Bytes Consumed: 200\n",
            "Transposed Array using reshape\n",
            " [[ 10.  ]\n",
            " [ 13.75]\n",
            " [ 17.5 ]\n",
            " [ 21.25]\n",
            " [ 25.  ]\n",
            " [ 28.75]\n",
            " [ 32.5 ]\n",
            " [ 36.25]\n",
            " [ 40.  ]\n",
            " [ 43.75]\n",
            " [ 47.5 ]\n",
            " [ 51.25]\n",
            " [ 55.  ]\n",
            " [ 58.75]\n",
            " [ 62.5 ]\n",
            " [ 66.25]\n",
            " [ 70.  ]\n",
            " [ 73.75]\n",
            " [ 77.5 ]\n",
            " [ 81.25]\n",
            " [ 85.  ]\n",
            " [ 88.75]\n",
            " [ 92.5 ]\n",
            " [ 96.25]\n",
            " [100.  ]]\n",
            "Transposed Array using T attribute\n",
            " [ 10.    13.75  17.5   21.25  25.    28.75  32.5   36.25  40.    43.75\n",
            "  47.5   51.25  55.    58.75  62.5   66.25  70.    73.75  77.5   81.25\n",
            "  85.    88.75  92.5   96.25 100.  ]\n"
          ]
        }
      ],
      "source": [
        "#Question 4\n",
        "import numpy as np\n",
        "Janvi = np.linspace(10, 100, 25)\n",
        "print(\"Array\", Janvi)\n",
        "print(\"Dimensions\", Janvi.ndim)\n",
        "print(\"Shape\", Janvi.shape)\n",
        "print(\"Total Elements\", Janvi.size)\n",
        "print(\"Data Type of Each Element\", Janvi.dtype)\n",
        "print(\"Total Bytes Consumed:\", Janvi.nbytes)\n",
        "\n",
        "transposed_array = Janvi.reshape(25, 1)\n",
        "print(\"Transposed Array using reshape\\n\", transposed_array)\n",
        "\n",
        "T_array = Janvi.T\n",
        "print(\"Transposed Array using T attribute\\n\", T_array)\n"
      ]
    }
  ]
}