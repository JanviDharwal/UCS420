{
  "nbformat": 4,
  "nbformat_minor": 0,
  "metadata": {
    "colab": {
      "provenance": [],
      "authorship_tag": "ABX9TyPCUgNWTl0R21f8K7Svo2Js",
      "include_colab_link": true
    },
    "kernelspec": {
      "name": "python3",
      "display_name": "Python 3"
    },
    "language_info": {
      "name": "python"
    }
  },
  "cells": [
    {
      "cell_type": "markdown",
      "metadata": {
        "id": "view-in-github",
        "colab_type": "text"
      },
      "source": [
        "<a href=\"https://colab.research.google.com/github/JanviDharwal/UCS712/blob/main/assignment2.ipynb\" target=\"_parent\"><img src=\"https://colab.research.google.com/assets/colab-badge.svg\" alt=\"Open In Colab\"/></a>"
      ]
    },
    {
      "cell_type": "code",
      "execution_count": 1,
      "metadata": {
        "colab": {
          "base_uri": "https://localhost:8080/"
        },
        "id": "GZLQ1cSQx9Tn",
        "outputId": "2eaa4e05-9258-464d-a7ef-a216e7fbda1a"
      },
      "outputs": [
        {
          "output_type": "stream",
          "name": "stdout",
          "text": [
            "58\n"
          ]
        }
      ],
      "source": [
        "#Assingment 2.1: WAP to add three numbers and print the result.\n",
        "a=27\n",
        "b=30\n",
        "c=1\n",
        "print(a+b+c)"
      ]
    },
    {
      "cell_type": "code",
      "source": [
        "#Assingment 2.2: WAP to concatinate three strings and print the result.\n",
        "a=\"hi\"\n",
        "b=\" my name is\"\n",
        "c=' Kiana'\n",
        "print(a+b+c)"
      ],
      "metadata": {
        "colab": {
          "base_uri": "https://localhost:8080/"
        },
        "id": "Cy4feEQ6yUgy",
        "outputId": "88651987-8c97-4e82-9a6f-11bd9104c632"
      },
      "execution_count": 2,
      "outputs": [
        {
          "output_type": "stream",
          "name": "stdout",
          "text": [
            "hi my name is Kiana\n"
          ]
        }
      ]
    }
  ]
}