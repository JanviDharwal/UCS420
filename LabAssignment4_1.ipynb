{
  "nbformat": 4,
  "nbformat_minor": 0,
  "metadata": {
    "colab": {
      "provenance": [],
      "authorship_tag": "ABX9TyM1/kq+6TdzDbZ56AZ3aaqf",
      "include_colab_link": true
    },
    "kernelspec": {
      "name": "python3",
      "display_name": "Python 3"
    },
    "language_info": {
      "name": "python"
    }
  },
  "cells": [
    {
      "cell_type": "markdown",
      "metadata": {
        "id": "view-in-github",
        "colab_type": "text"
      },
      "source": [
        "<a href=\"https://colab.research.google.com/github/JanviDharwal/UCS420/blob/main/LabAssignment4_1.ipynb\" target=\"_parent\"><img src=\"https://colab.research.google.com/assets/colab-badge.svg\" alt=\"Open In Colab\"/></a>"
      ]
    },
    {
      "cell_type": "code",
      "execution_count": 3,
      "metadata": {
        "colab": {
          "base_uri": "https://localhost:8080/"
        },
        "id": "_aqLF1Q_voS9",
        "outputId": "ea2a9ed4-1bd8-4e10-bfa8-507a7665a367"
      },
      "outputs": [
        {
          "output_type": "stream",
          "name": "stdout",
          "text": [
            "[3 4 6 7 8]\n",
            "[ 3  6 12 15 18]\n",
            "[0.5 1.  2.  2.5 3. ]\n"
          ]
        }
      ],
      "source": [
        "#question 1\n",
        "import numpy as np\n",
        "'''\n",
        "Write a program to create a NumPy 1D-array with 5 elements and perform basic\n",
        "operations like:\n",
        "'''\n",
        "#a) Addition of 2 in all the element\n",
        "a=np.array([1,2,4,5,6])\n",
        "print(a+2)\n",
        "#b) Multiply 3 with all the elements\n",
        "print(a*3)\n",
        "#c) Divide every element by 2\n",
        "print(a/2)"
      ]
    }
  ]
}