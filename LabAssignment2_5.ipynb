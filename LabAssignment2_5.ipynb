{
  "nbformat": 4,
  "nbformat_minor": 0,
  "metadata": {
    "colab": {
      "provenance": [],
      "authorship_tag": "ABX9TyPwG/bRVKrm9ELcpXjDO5BR",
      "include_colab_link": true
    },
    "kernelspec": {
      "name": "python3",
      "display_name": "Python 3"
    },
    "language_info": {
      "name": "python"
    }
  },
  "cells": [
    {
      "cell_type": "markdown",
      "metadata": {
        "id": "view-in-github",
        "colab_type": "text"
      },
      "source": [
        "<a href=\"https://colab.research.google.com/github/JanviDharwal/UCS420/blob/main/LabAssignment2_5.ipynb\" target=\"_parent\"><img src=\"https://colab.research.google.com/assets/colab-badge.svg\" alt=\"Open In Colab\"/></a>"
      ]
    },
    {
      "cell_type": "code",
      "execution_count": 3,
      "metadata": {
        "colab": {
          "base_uri": "https://localhost:8080/"
        },
        "id": "Xy4esIGdyDTc",
        "outputId": "a1b9c9ea-ba32-4db0-b62a-99b944fc1c31"
      },
      "outputs": [
        {
          "output_type": "stream",
          "name": "stdout",
          "text": [
            "{'name': 'kelly', 'age': 25, 'salary': 8000, 'location': 'New York'}\n"
          ]
        }
      ],
      "source": [
        "#Write a program to rename a key city to a loca􀆟on in the following dictonary.\n",
        "sample_dic={\"name\":\"kelly\",\"age\":25,\"salary\":8000,\"city\":\"New York\"}\n",
        "location=\"location\"\n",
        "city=\"city\"\n",
        "sample_dic[location]=sample_dic.pop(city)\n",
        "print(sample_dic)"
      ]
    }
  ]
}