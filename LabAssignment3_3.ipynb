{
  "nbformat": 4,
  "nbformat_minor": 0,
  "metadata": {
    "colab": {
      "provenance": [],
      "authorship_tag": "ABX9TyPuxH/9mHmd1P6p+b6fDq+i",
      "include_colab_link": true
    },
    "kernelspec": {
      "name": "python3",
      "display_name": "Python 3"
    },
    "language_info": {
      "name": "python"
    }
  },
  "cells": [
    {
      "cell_type": "markdown",
      "metadata": {
        "id": "view-in-github",
        "colab_type": "text"
      },
      "source": [
        "<a href=\"https://colab.research.google.com/github/JanviDharwal/UCS420/blob/main/LabAssignment3_3.ipynb\" target=\"_parent\"><img src=\"https://colab.research.google.com/assets/colab-badge.svg\" alt=\"Open In Colab\"/></a>"
      ]
    },
    {
      "cell_type": "code",
      "execution_count": 2,
      "metadata": {
        "colab": {
          "base_uri": "https://localhost:8080/"
        },
        "id": "wvtvCEgZR44I",
        "outputId": "b85f8540-9f49-4c81-828a-8c38c23343a3"
      },
      "outputs": [
        {
          "output_type": "stream",
          "name": "stdout",
          "text": [
            "   Tid Refund Marital Status Taxable Income Cheat\n",
            "3    4    Yes        Married           120k    No\n",
            "4    5     No       Divorced            95k   Yes\n",
            "5    6     No        Married            60k    No\n",
            "6    7    Yes       Divorced           220k    No\n",
            "7    8     No         Single            85k   Yes\n",
            "  Marital Status Taxable Income Cheat\n",
            "4       Divorced            95k   Yes\n",
            "5        Married            60k    No\n",
            "6       Divorced           220k    No\n",
            "7         Single            85k   Yes\n",
            "8        Married            75k    No\n",
            "  Refund Marital Status Taxable Income\n",
            "0    Yes         Single           125k\n",
            "1     No        Married           100k\n",
            "2     No         Single            70k\n",
            "3    Yes        Married           120k\n",
            "4     No       Divorced            95k\n",
            "5     No        Married            60k\n",
            "6    Yes       Divorced           220k\n",
            "7     No         Single            85k\n",
            "8     No        Married            75k\n",
            "9     No         Single            90k\n"
          ]
        }
      ],
      "source": [
        "#question 3\n",
        "#Navigate the DataFrame and do the following task for the table created in question 1:\n",
        "import pandas as pd\n",
        "data={\n",
        "    'Tid':[1,2,3,4,5,6,7,8,9,10],\n",
        "    'Refund':['Yes','No','No','Yes','No','No','Yes','No','No','No'],\n",
        "    'Marital Status':['Single','Married','Single','Married','Divorced','Married','Divorced','Single','Married','Single'],\n",
        "    'Taxable Income':['125k','100k','70k','120k','95k','60k','220k','85k','75k','90k'],\n",
        "    'Cheat':['No','No','No','No','Yes','No','No','Yes','No','Yes']\n",
        "}\n",
        "df=pd.DataFrame(data)\n",
        "#i Select row from index 3 to 7.\n",
        "print(df.iloc[3:8])\n",
        "#ii Select row from index 4 to 8, and column 2 to 4.\n",
        "print(df.iloc[4:9,2:5])\n",
        "#iii 3. Select all rows with column index 1 to 3 (include index)\n",
        "print(df.iloc[:,1:4])\n"
      ]
    }
  ]
}