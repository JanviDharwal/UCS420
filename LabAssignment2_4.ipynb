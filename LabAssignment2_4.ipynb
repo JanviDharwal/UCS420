{
  "nbformat": 4,
  "nbformat_minor": 0,
  "metadata": {
    "colab": {
      "provenance": [],
      "authorship_tag": "ABX9TyOwZcF4m+mTa3m71VgjaKzl",
      "include_colab_link": true
    },
    "kernelspec": {
      "name": "python3",
      "display_name": "Python 3"
    },
    "language_info": {
      "name": "python"
    }
  },
  "cells": [
    {
      "cell_type": "markdown",
      "metadata": {
        "id": "view-in-github",
        "colab_type": "text"
      },
      "source": [
        "<a href=\"https://colab.research.google.com/github/JanviDharwal/UCS420/blob/main/LabAssignment2_4.ipynb\" target=\"_parent\"><img src=\"https://colab.research.google.com/assets/colab-badge.svg\" alt=\"Open In Colab\"/></a>"
      ]
    },
    {
      "cell_type": "code",
      "execution_count": 2,
      "metadata": {
        "colab": {
          "base_uri": "https://localhost:8080/"
        },
        "id": "tAzy6Ug8t36M",
        "outputId": "d37b6247-43f9-4b43-bcf0-cd839caef1b1"
      },
      "outputs": [
        {
          "output_type": "stream",
          "name": "stdout",
          "text": [
            "{34, 45, 78, 23, 56, 90}\n"
          ]
        }
      ],
      "source": [
        "#Consider the following two sets, A and B, represen􀆟ng scores of two teams in multiple matches. A = {34, 56, 78, 90} and B = {78, 45, 90, 23}\n",
        "#WAP to perform the following opera􀆟ons using set functons:\n",
        "#i. Find the unique scores achieved by both teams (union of sets).\n",
        "A = {34, 56, 78, 90}\n",
        "B = {78, 45, 90, 23}\n",
        "print(A|B)\n",
        "#print(A.union(B))"
      ]
    },
    {
      "cell_type": "code",
      "source": [
        "#ii. Iden􀆟fy the scores that are common to both teams (intersec􀆟on of sets).\n",
        "A = {34, 56, 78, 90}\n",
        "B = {78, 45, 90, 23}\n",
        "print(A.intersection(B))"
      ],
      "metadata": {
        "colab": {
          "base_uri": "https://localhost:8080/"
        },
        "id": "ayy0LleRvGwv",
        "outputId": "57f1c478-48ec-4c3e-d2a6-0a748565dd20"
      },
      "execution_count": 3,
      "outputs": [
        {
          "output_type": "stream",
          "name": "stdout",
          "text": [
            "{90, 78}\n"
          ]
        }
      ]
    },
    {
      "cell_type": "code",
      "source": [
        "#iii. Find the scores that are exclusive to each team (symmetric difference).\n",
        "A = {34, 56, 78, 90}\n",
        "B = {78, 45, 90, 23}\n",
        "print(A-B)\n",
        "print(B-A)"
      ],
      "metadata": {
        "colab": {
          "base_uri": "https://localhost:8080/"
        },
        "id": "654CK69NvWiH",
        "outputId": "83f00b0a-a749-4a2d-955d-3d7b3fba1645"
      },
      "execution_count": 4,
      "outputs": [
        {
          "output_type": "stream",
          "name": "stdout",
          "text": [
            "{56, 34}\n",
            "{45, 23}\n"
          ]
        }
      ]
    },
    {
      "cell_type": "code",
      "source": [
        "#iv. Check if the scores of team A are a subset of team B, and if team B's scores area superset of team A.\n",
        "A = {34, 56, 78, 90}\n",
        "B = {78, 45, 90, 23}\n",
        "sub=A.issubset(B)\n",
        "sup=B.issuperset(A)\n",
        "print('team A is subset of team B?',sub)\n",
        "print('team B is superset of team A?',sup)"
      ],
      "metadata": {
        "colab": {
          "base_uri": "https://localhost:8080/"
        },
        "id": "TkrHDYKevosD",
        "outputId": "78580921-b8df-4045-8134-d6af8ac6d426"
      },
      "execution_count": 6,
      "outputs": [
        {
          "output_type": "stream",
          "name": "stdout",
          "text": [
            "team A is subset of team B? False\n",
            "team B is superset of team A? False\n"
          ]
        }
      ]
    },
    {
      "cell_type": "code",
      "source": [
        "#v. Remove a specific score 𝑋 (input by the user) from set A if it exists. If not, print a message saying it is not present.\n",
        "a=int(input('enter score to be removed'))\n",
        "A = {34, 56, 78, 90}\n",
        "if a not in A:\n",
        "  print(\"it doesnt exist\")\n",
        "else:\n",
        "  A.remove(a)\n",
        "  print(A)"
      ],
      "metadata": {
        "colab": {
          "base_uri": "https://localhost:8080/"
        },
        "id": "y6aR4C1Iw0tV",
        "outputId": "c9f137be-4a87-4bdd-8538-d79654fe3359"
      },
      "execution_count": 13,
      "outputs": [
        {
          "output_type": "stream",
          "name": "stdout",
          "text": [
            "enter score to be removed56\n",
            "{34, 90, 78}\n"
          ]
        }
      ]
    }
  ]
}