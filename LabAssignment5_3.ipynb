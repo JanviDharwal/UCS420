{
  "nbformat": 4,
  "nbformat_minor": 0,
  "metadata": {
    "colab": {
      "provenance": [],
      "authorship_tag": "ABX9TyP0jFSysGB/oL5RPzuawRys",
      "include_colab_link": true
    },
    "kernelspec": {
      "name": "python3",
      "display_name": "Python 3"
    },
    "language_info": {
      "name": "python"
    }
  },
  "cells": [
    {
      "cell_type": "markdown",
      "metadata": {
        "id": "view-in-github",
        "colab_type": "text"
      },
      "source": [
        "<a href=\"https://colab.research.google.com/github/JanviDharwal/UCS420/blob/main/LabAssignment5_3.ipynb\" target=\"_parent\"><img src=\"https://colab.research.google.com/assets/colab-badge.svg\" alt=\"Open In Colab\"/></a>"
      ]
    },
    {
      "cell_type": "code",
      "execution_count": 15,
      "metadata": {
        "colab": {
          "base_uri": "https://localhost:8080/"
        },
        "id": "uiQNOjOKUtPo",
        "outputId": "237e3fd2-4f0d-4724-c242-3aaf13cac646"
      },
      "outputs": [
        {
          "output_type": "stream",
          "name": "stdout",
          "text": [
            "Initial Sales [131 181 231 281 331]\n",
            "Sales after Tax [138.86 191.86 244.86 297.86 350.86]\n",
            "Sales after Discount [124.45 171.95 207.9  252.9  297.9 ]\n",
            "Weekly Sales Data\n",
            " [[124.45  171.95  207.9   252.9   297.9  ]\n",
            " [126.939 175.389 212.058 257.958 303.858]\n",
            " [129.428 178.828 216.216 263.016 309.816]]\n"
          ]
        }
      ],
      "source": [
        "\n",
        "import numpy as np\n",
        "\n",
        "#a\n",
        "first_initial = 'A'  #\n",
        "last_initial = 'B'\n",
        "\n",
        "X = ord(first_initial) + ord(last_initial)\n",
        "sales = np.array([X, X+50, X+100, X+150, X+200])\n",
        "\n",
        "print(\"Initial Sales\", sales)\n",
        "\n",
        "# b\n",
        "tax_rate = ((X % 5) + 5) / 100\n",
        "taxed_sales = sales * (1 + tax_rate)\n",
        "print(\"Sales after Tax\", taxed_sales)\n",
        "\n",
        "# c\n",
        "discounted_sales = np.where(sales < X+100, sales * 0.95, sales * 0.90)\n",
        "print(\"Sales after Discount\", discounted_sales)\n",
        "\n",
        "#d\n",
        "weekly_sales = np.tile(discounted_sales, (3, 1))\n",
        "\n",
        "\n",
        "week_factors = np.array([1, 1.02, 1.04]).reshape(3, 1)\n",
        "adjusted_sales = weekly_sales * week_factors\n",
        "\n",
        "print(\"Weekly Sales Data\\n\", adjusted_sales)\n"
      ]
    }
  ]
}