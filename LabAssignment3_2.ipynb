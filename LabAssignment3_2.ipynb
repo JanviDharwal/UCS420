{
  "nbformat": 4,
  "nbformat_minor": 0,
  "metadata": {
    "colab": {
      "provenance": [],
      "authorship_tag": "ABX9TyNR8Nmm8CaZ7YExcppiIYLQ",
      "include_colab_link": true
    },
    "kernelspec": {
      "name": "python3",
      "display_name": "Python 3"
    },
    "language_info": {
      "name": "python"
    }
  },
  "cells": [
    {
      "cell_type": "markdown",
      "metadata": {
        "id": "view-in-github",
        "colab_type": "text"
      },
      "source": [
        "<a href=\"https://colab.research.google.com/github/JanviDharwal/UCS420/blob/main/LabAssignment3_2.ipynb\" target=\"_parent\"><img src=\"https://colab.research.google.com/assets/colab-badge.svg\" alt=\"Open In Colab\"/></a>"
      ]
    },
    {
      "cell_type": "code",
      "execution_count": 1,
      "metadata": {
        "colab": {
          "base_uri": "https://localhost:8080/"
        },
        "id": "fDsexxH-NMhx",
        "outputId": "ae1660d1-f270-42ff-cc69-1580a8f012dc"
      },
      "outputs": [
        {
          "output_type": "stream",
          "name": "stdout",
          "text": [
            "   Tid Refund Marital Status Taxable Income Cheat\n",
            "0    1    Yes         Single           125k    No\n",
            "1    2     No        Married           100k    No\n",
            "2    3     No         Single            70k    No\n",
            "3    4    Yes        Married           120k    No\n",
            "4    5     No       Divorced            95k   Yes\n",
            "5    6     No        Married            60k    No\n",
            "6    7    Yes       Divorced           220k    No\n",
            "7    8     No         Single            85k   Yes\n",
            "8    9     No        Married            75k    No\n",
            "9   10     No         Single            90k   Yes\n",
            "Tid                    1\n",
            "Refund               Yes\n",
            "Marital Status    Single\n",
            "Taxable Income      125k\n",
            "Cheat                 No\n",
            "Name: 0, dtype: object\n",
            "Tid                      5\n",
            "Refund                  No\n",
            "Marital Status    Divorced\n",
            "Taxable Income         95k\n",
            "Cheat                  Yes\n",
            "Name: 4, dtype: object\n",
            "Tid                    8\n",
            "Refund                No\n",
            "Marital Status    Single\n",
            "Taxable Income       85k\n",
            "Cheat                Yes\n",
            "Name: 7, dtype: object\n"
          ]
        }
      ],
      "source": [
        "#question 2 From the above table that you have created, locate row 0, 4, 7 and 8 using DataFrame.\n",
        "import pandas as pd\n",
        "data={\n",
        "    'Tid':[1,2,3,4,5,6,7,8,9,10],\n",
        "    'Refund':['Yes','No','No','Yes','No','No','Yes','No','No','No'],\n",
        "    'Marital Status':['Single','Married','Single','Married','Divorced','Married','Divorced','Single','Married','Single'],\n",
        "    'Taxable Income':['125k','100k','70k','120k','95k','60k','220k','85k','75k','90k'],\n",
        "    'Cheat':['No','No','No','No','Yes','No','No','Yes','No','Yes']\n",
        "}\n",
        "#loading data\n",
        "df=pd.DataFrame(data)\n",
        "print(df)\n",
        "#show only 0,4,7\n",
        "#df.iloc[0:4]\n",
        "print(df.iloc[0])\n",
        "print(df.iloc[4])\n",
        "print(df.iloc[7])"
      ]
    }
  ]
}