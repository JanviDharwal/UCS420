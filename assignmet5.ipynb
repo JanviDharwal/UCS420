{
  "nbformat": 4,
  "nbformat_minor": 0,
  "metadata": {
    "colab": {
      "provenance": [],
      "authorship_tag": "ABX9TyPx9ovvpAJ479TxSLm7Hpiu",
      "include_colab_link": true
    },
    "kernelspec": {
      "name": "python3",
      "display_name": "Python 3"
    },
    "language_info": {
      "name": "python"
    }
  },
  "cells": [
    {
      "cell_type": "markdown",
      "metadata": {
        "id": "view-in-github",
        "colab_type": "text"
      },
      "source": [
        "<a href=\"https://colab.research.google.com/github/JanviDharwal/UCS712/blob/main/assignmet5.ipynb\" target=\"_parent\"><img src=\"https://colab.research.google.com/assets/colab-badge.svg\" alt=\"Open In Colab\"/></a>"
      ]
    },
    {
      "cell_type": "code",
      "execution_count": 3,
      "metadata": {
        "colab": {
          "base_uri": "https://localhost:8080/"
        },
        "id": "pmKMNMWvzyrJ",
        "outputId": "e9904fd5-561a-4f78-8581-e7a859a01d58"
      },
      "outputs": [
        {
          "output_type": "stream",
          "name": "stdout",
          "text": [
            "enter number5\n",
            "enter number1\n",
            "enter number3\n",
            "5\n"
          ]
        }
      ],
      "source": [
        "#Assingment 5.1: WAP to find max amoung three numbers and input from user. [Try max() function]\n",
        "a=int(input('enter number'))\n",
        "b=int(input('enter number'))\n",
        "c=int(input('enter number'))\n",
        "print(max(a,b,c))"
      ]
    },
    {
      "cell_type": "code",
      "source": [
        "#Assingment 5.2: WAP to add all numbers divisible by 7 and 9 from 1 to n and n is given by the user.\n",
        "n=int(input(\"enter number\"))\n",
        "sum=0\n",
        "for i in range(1,n+1):\n",
        "  if i%7==0 or i%9==0:\n",
        "    sum+=i\n",
        "print(sum)"
      ],
      "metadata": {
        "colab": {
          "base_uri": "https://localhost:8080/"
        },
        "id": "wdEpS2vk3ZmR",
        "outputId": "d84c0f23-3126-4846-d875-a94ebee8d3f9"
      },
      "execution_count": 6,
      "outputs": [
        {
          "output_type": "stream",
          "name": "stdout",
          "text": [
            "enter number20\n",
            "48\n"
          ]
        }
      ]
    }
  ]
}