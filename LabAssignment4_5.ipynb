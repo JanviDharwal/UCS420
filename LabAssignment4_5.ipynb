{
  "nbformat": 4,
  "nbformat_minor": 0,
  "metadata": {
    "colab": {
      "provenance": [],
      "authorship_tag": "ABX9TyO/B1GBKGv16QpEel1ANeT0",
      "include_colab_link": true
    },
    "kernelspec": {
      "name": "python3",
      "display_name": "Python 3"
    },
    "language_info": {
      "name": "python"
    }
  },
  "cells": [
    {
      "cell_type": "markdown",
      "metadata": {
        "id": "view-in-github",
        "colab_type": "text"
      },
      "source": [
        "<a href=\"https://colab.research.google.com/github/JanviDharwal/UCS420/blob/main/LabAssignment4_5.ipynb\" target=\"_parent\"><img src=\"https://colab.research.google.com/assets/colab-badge.svg\" alt=\"Open In Colab\"/></a>"
      ]
    },
    {
      "cell_type": "code",
      "execution_count": 3,
      "metadata": {
        "colab": {
          "base_uri": "https://localhost:8080/"
        },
        "id": "8zEXCXGPVOgD",
        "outputId": "d796ea7d-9caf-4aaf-e000-08dcf5a42b50"
      },
      "outputs": [
        {
          "output_type": "stream",
          "name": "stdout",
          "text": [
            "Mean 43.333333333333336\n",
            "Median 37.5\n",
            "Max 90\n",
            "Min 10\n",
            "Unique Elements [10 15 20 30 35 40 50 60 70 80 90]\n",
            "Reshaped Array 4x3\n",
            " [[10 20 30]\n",
            " [40 50 60]\n",
            " [70 80 90]\n",
            " [15 20 35]]\n",
            "Resized Array 2x3\n",
            " [[10 20 30]\n",
            " [40 50 60]]\n"
          ]
        }
      ],
      "source": [
        "#question 5\n",
        "import numpy as np\n",
        "\n",
        "ucs420_Janvi= np.array([[10, 20, 30, 40],\n",
        "                             [50, 60, 70, 80],\n",
        "                             [90, 15, 20, 35]])\n",
        "\n",
        "mean_value = np.mean(ucs420_Janvi)\n",
        "median_value = np.median(ucs420_Janvi)\n",
        "max_value = np.max(ucs420_Janvi)\n",
        "min_value = np.min(ucs420_Janvi)\n",
        "unique_elements = np.unique(ucs420_Janvi)\n",
        "\n",
        "print(\"Mean\", mean_value)\n",
        "print(\"Median\", median_value)\n",
        "print(\"Max\", max_value)\n",
        "print(\"Min\", min_value)\n",
        "print(\"Unique Elements\", unique_elements)\n",
        "\n",
        "reshaped_ucs420_Janvi = ucs420_Janvi.reshape(4, 3)\n",
        "print(\"Reshaped Array 4x3\\n\", reshaped_ucs420_Janvi)\n",
        "\n",
        "resized_ucs420_Janvi = np.resize(ucs420_Janvi, (2, 3))\n",
        "print(\"Resized Array 2x3\\n\", resized_ucs420_Janvi)\n"
      ]
    }
  ]
}