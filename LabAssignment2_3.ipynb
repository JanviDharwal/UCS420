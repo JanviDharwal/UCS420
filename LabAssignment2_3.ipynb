{
  "nbformat": 4,
  "nbformat_minor": 0,
  "metadata": {
    "colab": {
      "provenance": [],
      "authorship_tag": "ABX9TyMQnKt+1kes8VTtvnBDwsz5",
      "include_colab_link": true
    },
    "kernelspec": {
      "name": "python3",
      "display_name": "Python 3"
    },
    "language_info": {
      "name": "python"
    }
  },
  "cells": [
    {
      "cell_type": "markdown",
      "metadata": {
        "id": "view-in-github",
        "colab_type": "text"
      },
      "source": [
        "<a href=\"https://colab.research.google.com/github/JanviDharwal/UCS420/blob/main/LabAssignment2_3.ipynb\" target=\"_parent\"><img src=\"https://colab.research.google.com/assets/colab-badge.svg\" alt=\"Open In Colab\"/></a>"
      ]
    },
    {
      "cell_type": "code",
      "execution_count": 6,
      "metadata": {
        "colab": {
          "base_uri": "https://localhost:8080/"
        },
        "id": "2i0tOwL8Fiys",
        "outputId": "a067bc2a-b647-4c71-e95f-b11bfbebac71"
      },
      "outputs": [
        {
          "output_type": "stream",
          "name": "stdout",
          "text": [
            "ood numbers are\n",
            "159 879 365 661 373 497 689 825 145 279 439 679 697 361 251 611 757 493 321 795 509 587 881 815 213 681 781 463 679 789 615 733 669 215 101 767 277 329 651 245 703 365 857 591 275 587 783 311 547 "
          ]
        }
      ],
      "source": [
        "import random\n",
        "#WAP to create a list of 100 random numbers between 100 and 900. Count and print the:\n",
        "#i. All odd numbers\n",
        "L= [random.randint(100, 901) for k in range(100)]\n",
        "print('ood numbers are')\n",
        "for i in range(100):#starts from 100\n",
        "  if L[i]%2!=0:\n",
        "    print(L[i],end=' ')\n",
        "  else:\n",
        "    continue"
      ]
    },
    {
      "cell_type": "code",
      "source": [
        "#ii. All even numbers\n",
        "L= [random.randint(100, 901) for k in range(100)]\n",
        "print('even numbers are')\n",
        "for i in range(100):\n",
        "  if L[i]%2==0:\n",
        "    print(L[i],end=' ')\n",
        "  else:\n",
        "    continue"
      ],
      "metadata": {
        "colab": {
          "base_uri": "https://localhost:8080/"
        },
        "id": "Fx8uXot_IDbu",
        "outputId": "90e251e8-ec1b-4976-b9b4-a99fbd90b73f"
      },
      "execution_count": null,
      "outputs": [
        {
          "output_type": "stream",
          "name": "stdout",
          "text": [
            "even numbers are\n",
            "676 278 330 382 372 270 862 160 134 410 422 872 630 792 678 774 800 462 700 192 432 292 178 180 496 232 438 874 826 862 710 456 572 242 280 408 866 826 548 760 452 344 410 144 696 780 420 304 294 "
          ]
        }
      ]
    },
    {
      "cell_type": "code",
      "source": [
        "#iii print prime numbers\n",
        "import random\n",
        "def prime(n):\n",
        "  if n<=1:\n",
        "    return False\n",
        "  for i in range(2,int(n ** 0.5)+1):\n",
        "    if n%i==0:\n",
        "      return False\n",
        "  return True\n",
        "\n",
        "primes=[n for n in range(100,901)if prime(n)]\n",
        "random.shuffle(primes)\n",
        "print(primes)"
      ],
      "metadata": {
        "colab": {
          "base_uri": "https://localhost:8080/"
        },
        "id": "pt4oKjQ0nyyC",
        "outputId": "62309e4c-9ab3-4333-c9ed-536efc93a705"
      },
      "execution_count": 7,
      "outputs": [
        {
          "output_type": "stream",
          "name": "stdout",
          "text": [
            "[701, 193, 877, 557, 599, 179, 311, 173, 853, 719, 641, 743, 131, 809, 839, 661, 503, 823, 523, 359, 137, 389, 631, 163, 587, 257, 593, 281, 397, 277, 191, 229, 647, 691, 881, 887, 293, 199, 107, 601, 103, 307, 449, 499, 271, 487, 353, 211, 373, 769, 151, 547, 827, 251, 821, 829, 643, 347, 223, 269, 733, 739, 181, 227, 761, 239, 883, 811, 467, 619, 433, 283, 383, 863, 139, 569, 491, 167, 113, 127, 479, 331, 727, 857, 263, 571, 541, 577, 349, 101, 463, 797, 439, 859, 751, 149, 109, 233, 563, 773, 367, 683, 409, 787, 461, 431, 379, 313, 521, 443, 673, 401, 197, 613, 457, 653, 659, 241, 317, 757, 421, 709, 617, 509, 607, 677, 337, 419, 157]\n"
          ]
        }
      ]
    }
  ]
}